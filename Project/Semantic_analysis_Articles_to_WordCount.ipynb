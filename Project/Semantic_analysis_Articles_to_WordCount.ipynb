{
 "cells": [
  {
   "cell_type": "code",
   "execution_count": 1,
   "metadata": {
    "collapsed": true
   },
   "outputs": [],
   "source": [
    "import jieba, operator, json"
   ]
  },
  {
   "cell_type": "markdown",
   "metadata": {},
   "source": [
    "## 做Jieba分詞"
   ]
  },
  {
   "cell_type": "code",
   "execution_count": 3,
   "metadata": {
    "collapsed": false
   },
   "outputs": [],
   "source": [
    "def rawArt2Jieba(fileName, articlePath):\n",
    "    jieba.set_dictionary(r'D:\\BigData\\Python\\Workspace\\TextMining\\Project\\dictionary_for_semantic_analysis\\wordDict\\dict.txt.big.txt')\n",
    "    jieba.load_userdict(r'D:\\BigData\\Python\\Workspace\\TextMining\\Project\\dictionary_for_semantic_analysis\\wordDict\\dict_revised_total_cleared(UTF-8).txt.big.txt')\n",
    "    jieba.load_userdict(r'D:\\BigData\\Python\\Workspace\\TextMining\\Project\\dictionary_for_semantic_analysis\\wordDict\\combinedFixedDict.txt')\n",
    "    jieba.load_userdict(r'D:\\BigData\\Python\\Workspace\\TextMining\\Project\\dictionary_for_semantic_analysis\\wordDict\\Adj_Cleared_again_by_Albert.txt')\n",
    "    \n",
    "    with open(articlePath + '\\%s.txt' % fileName.strip(), 'r') as articleRead:\n",
    "        article = articleRead.read()\n",
    "        result = jieba.cut(article, cut_all = False)\n",
    "    \n",
    "    savePath = r'D:\\BigData\\Python\\Workspace\\TextMining\\Project\\txtFiles\\totalArticlesJieba\\%s_Jieba.txt' % fileName.strip()\n",
    "    with open(savePath, 'w') as jiabaWrite:\n",
    "        for word in result:\n",
    "            jiabaWrite.write(word.encode('utf-8') + '\\n')"
   ]
  },
  {
   "cell_type": "markdown",
   "metadata": {},
   "source": [
    "## 做WordCount分析"
   ]
  },
  {
   "cell_type": "code",
   "execution_count": 4,
   "metadata": {
    "collapsed": false,
    "scrolled": true
   },
   "outputs": [],
   "source": [
    "def wordCount(fileNmae, jiabaPath):\n",
    "    with open(jiabaPath + '\\%s_Jieba.txt' % fileName.strip(), 'r') as wordRead:\n",
    "        words = list()\n",
    "        words_dict = dict()\n",
    "        for cut_word in wordRead.readlines():\n",
    "            words.append(cut_word.strip().decode('utf-8'))\n",
    "        for word in words:\n",
    "            if word not in words_dict:\n",
    "                words_dict[word] = words.count(word)\n",
    "        words_list = sorted(words_dict.iteritems(), key = operator.itemgetter(1), reverse = True)\n",
    "    return words_list"
   ]
  },
  {
   "cell_type": "markdown",
   "metadata": {},
   "source": [
    "## 檢查情緒用語並儲存結果"
   ]
  },
  {
   "cell_type": "code",
   "execution_count": 5,
   "metadata": {
    "collapsed": false,
    "scrolled": false
   },
   "outputs": [],
   "source": [
    "def check2SaveTxt(fileName, check, words_list, savePath):\n",
    "    with open(savePath + '\\%s_result.txt' % fileName.strip(), 'w') as resultWrite:\n",
    "        for count_word, word_count in words_list:\n",
    "            if count_word in check:\n",
    "                resultWrite.write('%s %i' % (count_word.encode('utf-8'), word_count) + '\\n')\n",
    "            else:\n",
    "                pass"
   ]
  },
  {
   "cell_type": "code",
   "execution_count": 18,
   "metadata": {
    "collapsed": true
   },
   "outputs": [],
   "source": [
    "def check2JsonForm(check, words_list):\n",
    "    textRankDict = dict()\n",
    "    for count_word, word_count in words_list:\n",
    "        if count_word in check:\n",
    "            textRankDict[count_word] = word_count\n",
    "        else:\n",
    "            pass\n",
    "    return textRankDict\n",
    "\n",
    "def JsonForm2Save(totalContext, savePath, JsonFileName):\n",
    "    with open(savePath.format(JsonFileName), 'w') as jsonWrite:\n",
    "        json.dump(totalContext, jsonWrite)"
   ]
  },
  {
   "cell_type": "markdown",
   "metadata": {},
   "source": [
    "## 分析實作 -- 存成Txt檔格式"
   ]
  },
  {
   "cell_type": "code",
   "execution_count": 20,
   "metadata": {
    "collapsed": false,
    "scrolled": true
   },
   "outputs": [
    {
     "name": "stderr",
     "output_type": "stream",
     "text": [
      "Building prefix dict from D:\\BigData\\Python\\Workspace\\TextMining\\Project\\dictionary_for_semantic_analysis\\wordDict\\dict.txt.big.txt ...\n",
      "Loading model from cache c:\\users\\albert\\appdata\\local\\temp\\jieba.u644c1e3a7131d16659188b660829ecb9.cache\n",
      "Loading model cost 0.817 seconds.\n",
      "Prefix dict has been built succesfully.\n",
      "Building prefix dict from D:\\BigData\\Python\\Workspace\\TextMining\\Project\\dictionary_for_semantic_analysis\\wordDict\\dict.txt.big.txt ...\n",
      "Loading model from cache c:\\users\\albert\\appdata\\local\\temp\\jieba.u644c1e3a7131d16659188b660829ecb9.cache\n"
     ]
    },
    {
     "name": "stdout",
     "output_type": "stream",
     "text": [
      "----------All are done!!----------\n"
     ]
    },
    {
     "name": "stderr",
     "output_type": "stream",
     "text": [
      "Loading model cost 0.800 seconds.\n",
      "Prefix dict has been built succesfully.\n",
      "Building prefix dict from D:\\BigData\\Python\\Workspace\\TextMining\\Project\\dictionary_for_semantic_analysis\\wordDict\\dict.txt.big.txt ...\n",
      "Loading model from cache c:\\users\\albert\\appdata\\local\\temp\\jieba.u644c1e3a7131d16659188b660829ecb9.cache\n"
     ]
    },
    {
     "name": "stdout",
     "output_type": "stream",
     "text": [
      "----------All are done!!----------\n"
     ]
    },
    {
     "name": "stderr",
     "output_type": "stream",
     "text": [
      "Loading model cost 0.811 seconds.\n",
      "Prefix dict has been built succesfully.\n",
      "Building prefix dict from D:\\BigData\\Python\\Workspace\\TextMining\\Project\\dictionary_for_semantic_analysis\\wordDict\\dict.txt.big.txt ...\n",
      "Loading model from cache c:\\users\\albert\\appdata\\local\\temp\\jieba.u644c1e3a7131d16659188b660829ecb9.cache\n"
     ]
    },
    {
     "name": "stdout",
     "output_type": "stream",
     "text": [
      "----------All are done!!----------\n"
     ]
    },
    {
     "name": "stderr",
     "output_type": "stream",
     "text": [
      "Loading model cost 0.825 seconds.\n",
      "Prefix dict has been built succesfully.\n",
      "Building prefix dict from D:\\BigData\\Python\\Workspace\\TextMining\\Project\\dictionary_for_semantic_analysis\\wordDict\\dict.txt.big.txt ...\n",
      "Loading model from cache c:\\users\\albert\\appdata\\local\\temp\\jieba.u644c1e3a7131d16659188b660829ecb9.cache\n"
     ]
    },
    {
     "name": "stdout",
     "output_type": "stream",
     "text": [
      "----------All are done!!----------\n"
     ]
    },
    {
     "name": "stderr",
     "output_type": "stream",
     "text": [
      "Loading model cost 0.796 seconds.\n",
      "Prefix dict has been built succesfully.\n",
      "Building prefix dict from D:\\BigData\\Python\\Workspace\\TextMining\\Project\\dictionary_for_semantic_analysis\\wordDict\\dict.txt.big.txt ...\n",
      "Loading model from cache c:\\users\\albert\\appdata\\local\\temp\\jieba.u644c1e3a7131d16659188b660829ecb9.cache\n"
     ]
    },
    {
     "name": "stdout",
     "output_type": "stream",
     "text": [
      "----------All are done!!----------\n"
     ]
    },
    {
     "name": "stderr",
     "output_type": "stream",
     "text": [
      "Loading model cost 0.788 seconds.\n",
      "Prefix dict has been built succesfully.\n",
      "Building prefix dict from D:\\BigData\\Python\\Workspace\\TextMining\\Project\\dictionary_for_semantic_analysis\\wordDict\\dict.txt.big.txt ...\n",
      "Loading model from cache c:\\users\\albert\\appdata\\local\\temp\\jieba.u644c1e3a7131d16659188b660829ecb9.cache\n"
     ]
    },
    {
     "name": "stdout",
     "output_type": "stream",
     "text": [
      "----------All are done!!----------\n"
     ]
    },
    {
     "name": "stderr",
     "output_type": "stream",
     "text": [
      "Loading model cost 0.786 seconds.\n",
      "Prefix dict has been built succesfully.\n",
      "Building prefix dict from D:\\BigData\\Python\\Workspace\\TextMining\\Project\\dictionary_for_semantic_analysis\\wordDict\\dict.txt.big.txt ...\n",
      "Loading model from cache c:\\users\\albert\\appdata\\local\\temp\\jieba.u644c1e3a7131d16659188b660829ecb9.cache\n"
     ]
    },
    {
     "name": "stdout",
     "output_type": "stream",
     "text": [
      "----------All are done!!----------\n"
     ]
    },
    {
     "name": "stderr",
     "output_type": "stream",
     "text": [
      "Loading model cost 0.801 seconds.\n",
      "Prefix dict has been built succesfully.\n",
      "Building prefix dict from D:\\BigData\\Python\\Workspace\\TextMining\\Project\\dictionary_for_semantic_analysis\\wordDict\\dict.txt.big.txt ...\n",
      "Loading model from cache c:\\users\\albert\\appdata\\local\\temp\\jieba.u644c1e3a7131d16659188b660829ecb9.cache\n"
     ]
    },
    {
     "name": "stdout",
     "output_type": "stream",
     "text": [
      "----------All are done!!----------\n"
     ]
    },
    {
     "name": "stderr",
     "output_type": "stream",
     "text": [
      "Loading model cost 0.796 seconds.\n",
      "Prefix dict has been built succesfully.\n",
      "Building prefix dict from D:\\BigData\\Python\\Workspace\\TextMining\\Project\\dictionary_for_semantic_analysis\\wordDict\\dict.txt.big.txt ...\n",
      "Loading model from cache c:\\users\\albert\\appdata\\local\\temp\\jieba.u644c1e3a7131d16659188b660829ecb9.cache\n"
     ]
    },
    {
     "name": "stdout",
     "output_type": "stream",
     "text": [
      "----------All are done!!----------\n"
     ]
    },
    {
     "name": "stderr",
     "output_type": "stream",
     "text": [
      "Loading model cost 0.785 seconds.\n",
      "Prefix dict has been built succesfully.\n",
      "Building prefix dict from D:\\BigData\\Python\\Workspace\\TextMining\\Project\\dictionary_for_semantic_analysis\\wordDict\\dict.txt.big.txt ...\n",
      "Loading model from cache c:\\users\\albert\\appdata\\local\\temp\\jieba.u644c1e3a7131d16659188b660829ecb9.cache\n"
     ]
    },
    {
     "name": "stdout",
     "output_type": "stream",
     "text": [
      "----------All are done!!----------\n"
     ]
    },
    {
     "name": "stderr",
     "output_type": "stream",
     "text": [
      "Loading model cost 0.786 seconds.\n",
      "Prefix dict has been built succesfully.\n",
      "Building prefix dict from D:\\BigData\\Python\\Workspace\\TextMining\\Project\\dictionary_for_semantic_analysis\\wordDict\\dict.txt.big.txt ...\n",
      "Loading model from cache c:\\users\\albert\\appdata\\local\\temp\\jieba.u644c1e3a7131d16659188b660829ecb9.cache\n"
     ]
    },
    {
     "name": "stdout",
     "output_type": "stream",
     "text": [
      "----------All are done!!----------\n"
     ]
    },
    {
     "name": "stderr",
     "output_type": "stream",
     "text": [
      "Loading model cost 0.794 seconds.\n",
      "Prefix dict has been built succesfully.\n",
      "Building prefix dict from D:\\BigData\\Python\\Workspace\\TextMining\\Project\\dictionary_for_semantic_analysis\\wordDict\\dict.txt.big.txt ...\n",
      "Loading model from cache c:\\users\\albert\\appdata\\local\\temp\\jieba.u644c1e3a7131d16659188b660829ecb9.cache\n"
     ]
    },
    {
     "name": "stdout",
     "output_type": "stream",
     "text": [
      "----------All are done!!----------\n"
     ]
    },
    {
     "name": "stderr",
     "output_type": "stream",
     "text": [
      "Loading model cost 1.021 seconds.\n",
      "Prefix dict has been built succesfully.\n",
      "Building prefix dict from D:\\BigData\\Python\\Workspace\\TextMining\\Project\\dictionary_for_semantic_analysis\\wordDict\\dict.txt.big.txt ...\n",
      "Loading model from cache c:\\users\\albert\\appdata\\local\\temp\\jieba.u644c1e3a7131d16659188b660829ecb9.cache\n"
     ]
    },
    {
     "name": "stdout",
     "output_type": "stream",
     "text": [
      "----------All are done!!----------\n"
     ]
    },
    {
     "name": "stderr",
     "output_type": "stream",
     "text": [
      "Loading model cost 0.801 seconds.\n",
      "Prefix dict has been built succesfully.\n",
      "Building prefix dict from D:\\BigData\\Python\\Workspace\\TextMining\\Project\\dictionary_for_semantic_analysis\\wordDict\\dict.txt.big.txt ...\n",
      "Loading model from cache c:\\users\\albert\\appdata\\local\\temp\\jieba.u644c1e3a7131d16659188b660829ecb9.cache\n"
     ]
    },
    {
     "name": "stdout",
     "output_type": "stream",
     "text": [
      "----------All are done!!----------\n"
     ]
    },
    {
     "name": "stderr",
     "output_type": "stream",
     "text": [
      "Loading model cost 0.793 seconds.\n",
      "Prefix dict has been built succesfully.\n",
      "Building prefix dict from D:\\BigData\\Python\\Workspace\\TextMining\\Project\\dictionary_for_semantic_analysis\\wordDict\\dict.txt.big.txt ...\n",
      "Loading model from cache c:\\users\\albert\\appdata\\local\\temp\\jieba.u644c1e3a7131d16659188b660829ecb9.cache\n"
     ]
    },
    {
     "name": "stdout",
     "output_type": "stream",
     "text": [
      "----------All are done!!----------\n"
     ]
    },
    {
     "name": "stderr",
     "output_type": "stream",
     "text": [
      "Loading model cost 0.783 seconds.\n",
      "Prefix dict has been built succesfully.\n",
      "Building prefix dict from D:\\BigData\\Python\\Workspace\\TextMining\\Project\\dictionary_for_semantic_analysis\\wordDict\\dict.txt.big.txt ...\n",
      "Loading model from cache c:\\users\\albert\\appdata\\local\\temp\\jieba.u644c1e3a7131d16659188b660829ecb9.cache\n"
     ]
    },
    {
     "name": "stdout",
     "output_type": "stream",
     "text": [
      "----------All are done!!----------\n"
     ]
    },
    {
     "name": "stderr",
     "output_type": "stream",
     "text": [
      "Loading model cost 0.790 seconds.\n",
      "Prefix dict has been built succesfully.\n",
      "Building prefix dict from D:\\BigData\\Python\\Workspace\\TextMining\\Project\\dictionary_for_semantic_analysis\\wordDict\\dict.txt.big.txt ...\n",
      "Loading model from cache c:\\users\\albert\\appdata\\local\\temp\\jieba.u644c1e3a7131d16659188b660829ecb9.cache\n"
     ]
    },
    {
     "name": "stdout",
     "output_type": "stream",
     "text": [
      "----------All are done!!----------\n"
     ]
    },
    {
     "name": "stderr",
     "output_type": "stream",
     "text": [
      "Loading model cost 0.887 seconds.\n",
      "Prefix dict has been built succesfully.\n",
      "Building prefix dict from D:\\BigData\\Python\\Workspace\\TextMining\\Project\\dictionary_for_semantic_analysis\\wordDict\\dict.txt.big.txt ...\n",
      "Loading model from cache c:\\users\\albert\\appdata\\local\\temp\\jieba.u644c1e3a7131d16659188b660829ecb9.cache\n"
     ]
    },
    {
     "name": "stdout",
     "output_type": "stream",
     "text": [
      "----------All are done!!----------\n"
     ]
    },
    {
     "name": "stderr",
     "output_type": "stream",
     "text": [
      "Loading model cost 0.798 seconds.\n",
      "Prefix dict has been built succesfully.\n",
      "Building prefix dict from D:\\BigData\\Python\\Workspace\\TextMining\\Project\\dictionary_for_semantic_analysis\\wordDict\\dict.txt.big.txt ...\n",
      "Loading model from cache c:\\users\\albert\\appdata\\local\\temp\\jieba.u644c1e3a7131d16659188b660829ecb9.cache\n"
     ]
    },
    {
     "name": "stdout",
     "output_type": "stream",
     "text": [
      "----------All are done!!----------\n"
     ]
    },
    {
     "name": "stderr",
     "output_type": "stream",
     "text": [
      "Loading model cost 0.810 seconds.\n",
      "Prefix dict has been built succesfully.\n"
     ]
    },
    {
     "name": "stdout",
     "output_type": "stream",
     "text": [
      "----------All are done!!----------\n"
     ]
    },
    {
     "ename": "IndexError",
     "evalue": "list index out of range",
     "output_type": "error",
     "traceback": [
      "\u001b[1;31m---------------------------------------------------------------------------\u001b[0m",
      "\u001b[1;31mIndexError\u001b[0m                                Traceback (most recent call last)",
      "\u001b[1;32m<ipython-input-20-7ab2cf9adc79>\u001b[0m in \u001b[0;36m<module>\u001b[1;34m()\u001b[0m\n\u001b[0;32m      8\u001b[0m     \u001b[0mcheck\u001b[0m\u001b[1;33m.\u001b[0m\u001b[0mappend\u001b[0m\u001b[1;33m(\u001b[0m\u001b[0msemantic_word\u001b[0m\u001b[1;33m.\u001b[0m\u001b[0mstrip\u001b[0m\u001b[1;33m(\u001b[0m\u001b[1;33m)\u001b[0m\u001b[1;33m.\u001b[0m\u001b[0mdecode\u001b[0m\u001b[1;33m(\u001b[0m\u001b[1;34m'utf-8'\u001b[0m\u001b[1;33m)\u001b[0m\u001b[1;33m)\u001b[0m\u001b[1;33m\u001b[0m\u001b[0m\n\u001b[0;32m      9\u001b[0m \u001b[1;32mfor\u001b[0m \u001b[0mlines\u001b[0m \u001b[1;32min\u001b[0m \u001b[0mopen\u001b[0m\u001b[1;33m(\u001b[0m\u001b[0mfileNamePath\u001b[0m\u001b[1;33m,\u001b[0m \u001b[1;34m'r'\u001b[0m\u001b[1;33m)\u001b[0m\u001b[1;33m:\u001b[0m\u001b[1;33m\u001b[0m\u001b[0m\n\u001b[1;32m---> 10\u001b[1;33m     \u001b[0mfileName\u001b[0m \u001b[1;33m=\u001b[0m \u001b[0mlines\u001b[0m\u001b[1;33m.\u001b[0m\u001b[0mstrip\u001b[0m\u001b[1;33m(\u001b[0m\u001b[1;33m)\u001b[0m\u001b[1;33m.\u001b[0m\u001b[0msplit\u001b[0m\u001b[1;33m(\u001b[0m\u001b[1;34m','\u001b[0m\u001b[1;33m)\u001b[0m\u001b[1;33m[\u001b[0m\u001b[1;36m1\u001b[0m\u001b[1;33m]\u001b[0m\u001b[1;33m\u001b[0m\u001b[0m\n\u001b[0m\u001b[0;32m     11\u001b[0m     \u001b[0mrawArt2Jieba\u001b[0m\u001b[1;33m(\u001b[0m\u001b[0mfileName\u001b[0m\u001b[1;33m,\u001b[0m \u001b[0marticlePath\u001b[0m\u001b[1;33m)\u001b[0m\u001b[1;33m\u001b[0m\u001b[0m\n\u001b[0;32m     12\u001b[0m     \u001b[0mwords_list\u001b[0m \u001b[1;33m=\u001b[0m \u001b[0mwordCount\u001b[0m\u001b[1;33m(\u001b[0m\u001b[0mfileName\u001b[0m\u001b[1;33m,\u001b[0m \u001b[0mcheck\u001b[0m\u001b[1;33m,\u001b[0m \u001b[0mjiabaPath\u001b[0m\u001b[1;33m)\u001b[0m\u001b[1;33m\u001b[0m\u001b[0m\n",
      "\u001b[1;31mIndexError\u001b[0m: list index out of range"
     ]
    }
   ],
   "source": [
    "'''\n",
    "第一個是先將實作\n",
    "'''\n",
    "articlePath = r'D:\\BigData\\Python\\Workspace\\TextMining\\Project\\txtFiles\\totalArticles'\n",
    "jiabaPath = r'D:\\BigData\\Python\\Workspace\\TextMining\\Project\\txtFiles\\totalArticlesJieba'\n",
    "savePath = r'D:\\BigData\\Python\\Workspace\\TextMining\\Project\\txtFiles\\totalAtriclesResult'\n",
    "checkPath = r'D:\\BigData\\Python\\Workspace\\TextMining\\Project\\dictionary_for_semantic_analysis\\wordDict\\combinedFixedDict_for_checking_repeat_checked.txt'\n",
    "fileNamePath = r'D:\\BigData\\Python\\Workspace\\TextMining\\Project\\dictionary_for_semantic_analysis\\wordDict\\TourAgency_Dict_for_Key_FileName.txt'\n",
    "check = list()\n",
    "for semantic_word in open(checkPath, 'r'):\n",
    "    check.append(semantic_word.strip().decode('utf-8'))\n",
    "for lines in open(fileNamePath, 'r'):\n",
    "    fileName = lines.strip().split(',')[1]\n",
    "    rawArt2Jieba(fileName, articlePath)\n",
    "    words_list = wordCount(fileName, check, jiabaPath)\n",
    "    check2SaveTxt(fileName, check, words_list, savePath)\n",
    "print '-' * 10 + 'All are done!!' + '-' * 10"
   ]
  },
  {
   "cell_type": "markdown",
   "metadata": {},
   "source": [
    "## 分析實作 -- 存成Json檔格式"
   ]
  },
  {
   "cell_type": "code",
   "execution_count": 7,
   "metadata": {
    "collapsed": false,
    "scrolled": true
   },
   "outputs": [
    {
     "name": "stdout",
     "output_type": "stream",
     "text": [
      "Error happened!!\n",
      "Error happened!!\n",
      "Error happened!!\n",
      "Error happened!!\n",
      "----------All are done!!----------\n"
     ]
    }
   ],
   "source": [
    "articlePath = r'D:\\BigData\\Python\\Workspace\\TextMining\\Project\\txtFiles\\totalArticles'\n",
    "jiabaPath = r'D:\\BigData\\Python\\Workspace\\TextMining\\Project\\txtFiles\\totalArticlesJieba'\n",
    "savePath = r'D:\\BigData\\Python\\Workspace\\TextMining\\Project\\txtFiles\\totalAtriclesResult\\{}.json'\n",
    "checkPath = r'D:\\BigData\\Python\\Workspace\\TextMining\\Project\\dictionary_for_semantic_analysis\\wordDict\\combinedFixedDict_for_checking_repeat_checked.txt'\n",
    "fileNamePath = r'D:\\BigData\\Python\\Workspace\\TextMining\\Project\\dictionary_for_semantic_analysis\\wordDict\\TourAgency_Dict_for_Key_FileName.txt'\n",
    "newSavePath = savePath.format('test')\n",
    "check = list()\n",
    "totalContext = dict()\n",
    "for semantic_word in open(checkPath, 'r'):\n",
    "    check.append(semantic_word.strip().decode('utf-8'))\n",
    "for lines in open(fileNamePath, 'r'):\n",
    "    try:\n",
    "        fileName = lines.strip().split(',')[1]\n",
    "    #     rawArt2Jieba(fileName, articlePath)\n",
    "        words_list = wordCount(fileName, jiabaPath)\n",
    "        textRankDict = check2JsonForm(check, words_list)\n",
    "        totalContext[fileName.strip()] = textRankDict.copy()\n",
    "    except:\n",
    "        print 'Error happened!!'\n",
    "with open(newSavePath, 'w') as jsonWrite:\n",
    "    json.dump(totalContext, jsonWrite)\n",
    "print '-' * 10 + 'All are done!!' + '-' * 10"
   ]
  },
  {
   "cell_type": "code",
   "execution_count": 40,
   "metadata": {
    "collapsed": false
   },
   "outputs": [
    {
     "name": "stderr",
     "output_type": "stream",
     "text": [
      "D:\\Program Files\\Anaconda2\\lib\\site-packages\\ipykernel\\__main__.py:4: UnicodeWarning: Unicode equal comparison failed to convert both arguments to Unicode - interpreting them as being unequal\n"
     ]
    }
   ],
   "source": [
    "with open(r'D:\\BigData\\Python\\Workspace\\TextMining\\Project\\dictionary_for_semantic_analysis\\wordDict\\combinedFixedDict_for_checking_repeat_checked.txt', 'w') as dataWrite:\n",
    "    with open(r'D:\\BigData\\Python\\Workspace\\TextMining\\Project\\dictionary_for_semantic_analysis\\wordDict\\combinedFixedDict_for_checking_repeat.txt', 'r') as dataRead:\n",
    "        for lines in dataRead.readlines():\n",
    "            if lines.strip() == u'':\n",
    "                pass\n",
    "            else:\n",
    "                dataWrite.write(lines)"
   ]
  }
 ],
 "metadata": {
  "anaconda-cloud": {},
  "kernelspec": {
   "display_name": "Python [Root]",
   "language": "python",
   "name": "Python [Root]"
  },
  "language_info": {
   "codemirror_mode": {
    "name": "ipython",
    "version": 2
   },
   "file_extension": ".py",
   "mimetype": "text/x-python",
   "name": "python",
   "nbconvert_exporter": "python",
   "pygments_lexer": "ipython2",
   "version": "2.7.12"
  }
 },
 "nbformat": 4,
 "nbformat_minor": 0
}
