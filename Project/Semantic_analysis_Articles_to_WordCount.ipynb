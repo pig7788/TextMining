{
 "cells": [
  {
   "cell_type": "code",
   "execution_count": 25,
   "metadata": {
    "collapsed": true
   },
   "outputs": [],
   "source": [
    "import jieba, operator, json, re"
   ]
  },
  {
   "cell_type": "markdown",
   "metadata": {},
   "source": [
    "## 做Jieba分詞"
   ]
  },
  {
   "cell_type": "code",
   "execution_count": 3,
   "metadata": {
    "collapsed": false
   },
   "outputs": [],
   "source": [
    "def rawArt2Jieba(fileName, articlePath):\n",
    "    jieba.set_dictionary(r'D:\\BigData\\Python\\Workspace\\TextMining\\Project\\dictionary_for_semantic_analysis\\wordDict\\dict.txt.big.txt')\n",
    "    jieba.load_userdict(r'D:\\BigData\\Python\\Workspace\\TextMining\\Project\\dictionary_for_semantic_analysis\\wordDict\\dict_revised_total_cleared(UTF-8).txt.big.txt')\n",
    "    jieba.load_userdict(r'D:\\BigData\\Python\\Workspace\\TextMining\\Project\\dictionary_for_semantic_analysis\\wordDict\\combinedFixedDict.txt')\n",
    "    jieba.load_userdict(r'D:\\BigData\\Python\\Workspace\\TextMining\\Project\\dictionary_for_semantic_analysis\\wordDict\\Adj_Cleared_again_by_Albert.txt')\n",
    "    \n",
    "    with open(articlePath + '\\%s.txt' % fileName.strip(), 'r') as articleRead:\n",
    "        article = articleRead.read()\n",
    "        result = jieba.cut(article, cut_all = False)\n",
    "    \n",
    "    savePath = r'D:\\BigData\\Python\\Workspace\\TextMining\\Project\\txtFiles\\totalArticlesJieba\\%s_Jieba.txt' % fileName.strip()\n",
    "    with open(savePath, 'w') as jiabaWrite:\n",
    "        for word in result:\n",
    "            jiabaWrite.write(word.encode('utf-8') + '\\n')"
   ]
  },
  {
   "cell_type": "markdown",
   "metadata": {},
   "source": [
    "## 做WordCount分析"
   ]
  },
  {
   "cell_type": "code",
   "execution_count": 19,
   "metadata": {
    "collapsed": false,
    "scrolled": true
   },
   "outputs": [],
   "source": [
    "def wordCount(fileNmae, check, jiabaPath):\n",
    "    with open(jiabaPath + '\\%s_Jieba.txt' % fileName.strip(), 'r') as wordRead:\n",
    "        words = list()\n",
    "        words_dict = dict()\n",
    "        for cut_word in wordRead.readlines():\n",
    "            words.append(cut_word.strip().decode('utf-8'))\n",
    "        for word in words:\n",
    "            if word in check:\n",
    "                words_dict[word] = words.count(word)\n",
    "        for word in words_dict.keys():\n",
    "            words_dict[word] = copy.deepcopy(round(float(words_dict[word]) / sum(words_dict.values()), 6))\n",
    "        words_list = sorted(words_dict.iteritems(), key = operator.itemgetter(1), reverse = True)\n",
    "    return words_list"
   ]
  },
  {
   "cell_type": "markdown",
   "metadata": {},
   "source": [
    "## 檢查情緒用語並儲存結果"
   ]
  },
  {
   "cell_type": "code",
   "execution_count": 36,
   "metadata": {
    "collapsed": false,
    "scrolled": false
   },
   "outputs": [],
   "source": [
    "def check2SaveTxt(fileName, check, words_list, savePath):\n",
    "    with open(savePath + '\\%s_result.txt' % fileName.strip(), 'w') as resultWrite:\n",
    "        for count_word, word_count in words_list:\n",
    "            if count_word in check:\n",
    "                resultWrite.write('%s %f' % (count_word.encode('utf-8'), word_count) + '\\n')\n",
    "            else:\n",
    "                pass\n",
    "\n",
    "def check2JsonForm(check, words_list):\n",
    "    textRankDict = dict()\n",
    "    for count_word, word_count in words_list:\n",
    "        if count_word in check:\n",
    "            textRankDict[count_word] = word_count\n",
    "        else:\n",
    "            pass\n",
    "    return textRankDict\n",
    "\n",
    "def JsonForm2Save(totalContext, savePath, JsonFileName):\n",
    "    with open(savePath.format(JsonFileName), 'w') as jsonWrite:\n",
    "        json.dump(totalContext, jsonWrite)"
   ]
  },
  {
   "cell_type": "markdown",
   "metadata": {},
   "source": [
    "## 分析實作 -- 存成Txt檔格式"
   ]
  },
  {
   "cell_type": "code",
   "execution_count": 37,
   "metadata": {
    "collapsed": false,
    "scrolled": true
   },
   "outputs": [
    {
     "name": "stdout",
     "output_type": "stream",
     "text": [
      "----------All are done!!----------\n"
     ]
    }
   ],
   "source": [
    "articlePath = r'D:\\BigData\\Python\\Workspace\\TextMining\\Project\\txtFiles\\totalArticles'\n",
    "jiabaPath = r'D:\\BigData\\Python\\Workspace\\TextMining\\Project\\txtFiles\\totalArticlesJieba'\n",
    "savePath = r'D:\\BigData\\Python\\Workspace\\TextMining\\Project\\txtFiles\\totalAtriclesResult'\n",
    "checkPath = r'D:\\BigData\\Python\\Workspace\\TextMining\\Project\\dictionary_for_semantic_analysis\\wordDict\\combinedFixedDict_for_checking_repeat_checked.txt'\n",
    "fileNamePath = r'D:\\BigData\\Python\\Workspace\\TextMining\\Project\\dictionary_for_semantic_analysis\\wordDict\\TourAgency_Dict_for_Key_FileName.txt'\n",
    "check = list()\n",
    "for semantic_word in open(checkPath, 'r'):\n",
    "    if re.match(u'好|優惠|推薦', semantic_word.decode('utf-8')):\n",
    "        pass\n",
    "    else:\n",
    "        check.append(semantic_word.strip().decode('utf-8'))\n",
    "for lines in open(fileNamePath, 'r'):\n",
    "    fileName = lines.strip().split(',')[1]\n",
    "    rawArt2Jieba(fileName, articlePath)\n",
    "    words_list = wordCount(fileName, check, jiabaPath)\n",
    "    check2SaveTxt(fileName, check, words_list, savePath)\n",
    "print '-' * 10 + 'All are done!!' + '-' * 10"
   ]
  },
  {
   "cell_type": "markdown",
   "metadata": {},
   "source": [
    "## 分析實作 -- 存成Json檔格式"
   ]
  },
  {
   "cell_type": "code",
   "execution_count": 7,
   "metadata": {
    "collapsed": false,
    "scrolled": true
   },
   "outputs": [
    {
     "name": "stdout",
     "output_type": "stream",
     "text": [
      "Error happened!!\n",
      "Error happened!!\n",
      "Error happened!!\n",
      "Error happened!!\n",
      "----------All are done!!----------\n"
     ]
    }
   ],
   "source": [
    "articlePath = r'D:\\BigData\\Python\\Workspace\\TextMining\\Project\\txtFiles\\totalArticles'\n",
    "jiabaPath = r'D:\\BigData\\Python\\Workspace\\TextMining\\Project\\txtFiles\\totalArticlesJieba'\n",
    "savePath = r'D:\\BigData\\Python\\Workspace\\TextMining\\Project\\txtFiles\\totalAtriclesResult\\{}.json'\n",
    "checkPath = r'D:\\BigData\\Python\\Workspace\\TextMining\\Project\\dictionary_for_semantic_analysis\\wordDict\\combinedFixedDict_for_checking_repeat_checked.txt'\n",
    "fileNamePath = r'D:\\BigData\\Python\\Workspace\\TextMining\\Project\\dictionary_for_semantic_analysis\\wordDict\\TourAgency_Dict_for_Key_FileName.txt'\n",
    "newSavePath = savePath.format('test')\n",
    "check = list()\n",
    "totalContext = dict()\n",
    "for semantic_word in open(checkPath, 'r'):\n",
    "    if re.match(u'好|優惠|推薦', semantic_word.decode('utf-8')):\n",
    "        pass\n",
    "    else:\n",
    "        check.append(semantic_word.strip().decode('utf-8'))\n",
    "for lines in open(fileNamePath, 'r'):\n",
    "    try:\n",
    "        fileName = lines.strip().split(',')[1]\n",
    "        rawArt2Jieba(fileName, articlePath)\n",
    "        words_list = wordCount(fileName, check, jiabaPath)\n",
    "        textRankDict = check2JsonForm(check, words_list)\n",
    "        totalContext[fileName.strip()] = textRankDict.copy()\n",
    "    except:\n",
    "        print 'Error happened!!'\n",
    "with open(newSavePath, 'w') as jsonWrite:\n",
    "    json.dump(totalContext, jsonWrite)\n",
    "print '-' * 10 + 'All are done!!' + '-' * 10"
   ]
  }
 ],
 "metadata": {
  "anaconda-cloud": {},
  "kernelspec": {
   "display_name": "Python [Root]",
   "language": "python",
   "name": "Python [Root]"
  },
  "language_info": {
   "codemirror_mode": {
    "name": "ipython",
    "version": 2
   },
   "file_extension": ".py",
   "mimetype": "text/x-python",
   "name": "python",
   "nbconvert_exporter": "python",
   "pygments_lexer": "ipython2",
   "version": "2.7.12"
  }
 },
 "nbformat": 4,
 "nbformat_minor": 0
}
