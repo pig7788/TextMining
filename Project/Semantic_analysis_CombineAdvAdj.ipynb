{
 "cells": [
  {
   "cell_type": "markdown",
   "metadata": {},
   "source": [
    "## 形容詞與副詞排列組合"
   ]
  },
  {
   "cell_type": "code",
   "execution_count": 3,
   "metadata": {
    "collapsed": false
   },
   "outputs": [],
   "source": [
    "adjFilePath = r'D:\\BigData\\Python\\Workspace\\TextMining\\Project\\dictionary_for_semantic_analysis\\wordDict\\Adj_Cleared_again_by_Albert.txt'\n",
    "advFilePath = r'D:\\BigData\\Python\\Workspace\\TextMining\\Project\\dictionary_for_semantic_analysis\\wordDict\\Adv_Cleared_again_by_Albert.txt'\n",
    "adjAdvSavePath = r'D:\\BigData\\Python\\Workspace\\TextMining\\Project\\dictionary_for_semantic_analysis\\wordDict\\combinedFixedDict.txt'\n",
    "\n",
    "with open(adjAdvSavePath, 'w') as combinedWrite:\n",
    "    for advWords in open(advFilePath, 'r'):\n",
    "        for adjWords in open(adjFilePath, 'r'):\n",
    "            combinedWrite.write(advWords.strip() + adjWords.strip() + '\\n')"
   ]
  },
  {
   "cell_type": "code",
   "execution_count": 2,
   "metadata": {
    "collapsed": false
   },
   "outputs": [
    {
     "name": "stdout",
     "output_type": "stream",
     "text": [
      "41760\n"
     ]
    }
   ],
   "source": [
    "adjAdvSavePath = r'D:\\BigData\\Python\\Workspace\\TextMining\\Project\\dictionary_for_semantic_analysis\\wordDict\\combinedFixedDict.txt'\n",
    "linesCount = 0\n",
    "for lines in open(adjAdvSavePath, 'r'):\n",
    "    linesCount += 1\n",
    "print linesCount"
   ]
  }
 ],
 "metadata": {
  "kernelspec": {
   "display_name": "Python [Root]",
   "language": "python",
   "name": "Python [Root]"
  },
  "language_info": {
   "codemirror_mode": {
    "name": "ipython",
    "version": 2
   },
   "file_extension": ".py",
   "mimetype": "text/x-python",
   "name": "python",
   "nbconvert_exporter": "python",
   "pygments_lexer": "ipython2",
   "version": "2.7.12"
  }
 },
 "nbformat": 4,
 "nbformat_minor": 0
}
