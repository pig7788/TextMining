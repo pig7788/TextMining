{
 "cells": [
  {
   "cell_type": "code",
   "execution_count": 47,
   "metadata": {
    "collapsed": true
   },
   "outputs": [],
   "source": [
    "import json, re"
   ]
  },
  {
   "cell_type": "markdown",
   "metadata": {},
   "source": [
    "## Json檔讀取 & 寫入成Txt檔"
   ]
  },
  {
   "cell_type": "code",
   "execution_count": 114,
   "metadata": {
    "collapsed": false
   },
   "outputs": [],
   "source": [
    "def jsonRead2Check(fileName):\n",
    "    check = list()\n",
    "    dataPath = r'D:\\BigData\\Project\\Travel\\totalTravel\\{}.json'.format(fileName)\n",
    "    with open(dataPath, 'r') as jsonRead:\n",
    "        data_load = json.load(jsonRead)\n",
    "        tourDict = data_load['eachTravel']\n",
    "        for each_TourAgency in tourDict:\n",
    "            if each_TourAgency['prodNo'] not in check:\n",
    "                check.append(each_TourAgency['prodNo'])\n",
    "            else:\n",
    "                pass\n",
    "    return tourDict, check"
   ]
  },
  {
   "cell_type": "code",
   "execution_count": 144,
   "metadata": {
    "collapsed": false
   },
   "outputs": [],
   "source": [
    "def write2File(tourDict, check, savePath):\n",
    "    for checkProdNo in check:\n",
    "            for each_TourAgency in tourDict:\n",
    "                if each_TourAgency['prodNo'] in check:\n",
    "                    fileName = each_TourAgency['prodNo']\n",
    "                    if re.search('\\w{13} \\w{%i}' % len(each_TourAgency['prodNo'].split(' ')[1]), each_TourAgency['prodNo']):\n",
    "                        fileName = '_'.join(each_TourAgency['prodNo'].split(' '))\n",
    "                    elif re.search(' \\w{%i}' % len(each_TourAgency['prodNo'].split(' ')[1]), each_TourAgency['prodNo']):\n",
    "                        fileName = each_TourAgency['prodNo'].split(' ')[1]\n",
    "                with open(savePath + r'\\{}.txt'.format(fileName), 'w') as tourWrite:\n",
    "                    for key in tourDict[0]['tour'].keys():\n",
    "                        try:\n",
    "                            tourWrite.write(each_TourAgency['tour'][key].encode('utf-8') + '\\n')\n",
    "                        except:\n",
    "                            pass\n",
    "    print 'All are done!!'"
   ]
  },
  {
   "cell_type": "markdown",
   "metadata": {},
   "source": [
    "## Eztravel"
   ]
  },
  {
   "cell_type": "code",
   "execution_count": 113,
   "metadata": {
    "collapsed": false,
    "scrolled": true
   },
   "outputs": [
    {
     "name": "stdout",
     "output_type": "stream",
     "text": [
      "All are done!!\n"
     ]
    }
   ],
   "source": [
    "savePath = r'D:\\BigData\\Project\\Travel\\totalTravel\\eztravel'\n",
    "tourDict, check = jsonRead2Check('totalTravel_for_EZtravel_in_Kansai')\n",
    "write2File(tourDict, check, savePath)"
   ]
  },
  {
   "cell_type": "code",
   "execution_count": 115,
   "metadata": {
    "collapsed": false
   },
   "outputs": [
    {
     "name": "stdout",
     "output_type": "stream",
     "text": [
      "All are done!!\n"
     ]
    }
   ],
   "source": [
    "savePath = r'D:\\BigData\\Project\\Travel\\totalTravel\\eztravel'\n",
    "tourDict, check = jsonRead2Check('totalTravel_for_EZtravel_in_Kanto')\n",
    "write2File(tourDict, check, savePath)"
   ]
  },
  {
   "cell_type": "markdown",
   "metadata": {},
   "source": [
    "## Ggogo"
   ]
  },
  {
   "cell_type": "code",
   "execution_count": 146,
   "metadata": {
    "collapsed": false
   },
   "outputs": [
    {
     "name": "stdout",
     "output_type": "stream",
     "text": [
      "All are done!!\n"
     ]
    }
   ],
   "source": [
    "savePath = r'D:\\BigData\\Project\\Travel\\totalTravel\\ggogo'\n",
    "tourDict, check = jsonRead2Check('totalTravel_for_Ggogo_in_Kansai')\n",
    "write2File(tourDict, check, savePath)"
   ]
  },
  {
   "cell_type": "code",
   "execution_count": 147,
   "metadata": {
    "collapsed": false
   },
   "outputs": [
    {
     "name": "stdout",
     "output_type": "stream",
     "text": [
      "All are done!!\n"
     ]
    }
   ],
   "source": [
    "savePath = r'D:\\BigData\\Project\\Travel\\totalTravel\\ggogo'\n",
    "tourDict, check = jsonRead2Check('totalTravel_for_Ggogo_in_Nagoya')\n",
    "write2File(tourDict, check, savePath)"
   ]
  },
  {
   "cell_type": "code",
   "execution_count": 148,
   "metadata": {
    "collapsed": false
   },
   "outputs": [
    {
     "name": "stdout",
     "output_type": "stream",
     "text": [
      "All are done!!\n"
     ]
    }
   ],
   "source": [
    "savePath = r'D:\\BigData\\Project\\Travel\\totalTravel\\ggogo'\n",
    "tourDict, check = jsonRead2Check('totalTravel_for_Ggogo_in_Tokyo')\n",
    "write2File(tourDict, check, savePath)"
   ]
  },
  {
   "cell_type": "markdown",
   "metadata": {},
   "source": [
    "## Ftstour"
   ]
  },
  {
   "cell_type": "code",
   "execution_count": 149,
   "metadata": {
    "collapsed": false
   },
   "outputs": [
    {
     "name": "stdout",
     "output_type": "stream",
     "text": [
      "All are done!!\n"
     ]
    }
   ],
   "source": [
    "savePath = r'D:\\BigData\\Project\\Travel\\totalTravel\\ftstour'\n",
    "tourDict, check = jsonRead2Check('totalTravel_for_Ftstour_in_Japan')\n",
    "write2File(tourDict, check, savePath)"
   ]
  }
 ],
 "metadata": {
  "anaconda-cloud": {},
  "kernelspec": {
   "display_name": "Python [Root]",
   "language": "python",
   "name": "Python [Root]"
  },
  "language_info": {
   "codemirror_mode": {
    "name": "ipython",
    "version": 2
   },
   "file_extension": ".py",
   "mimetype": "text/x-python",
   "name": "python",
   "nbconvert_exporter": "python",
   "pygments_lexer": "ipython2",
   "version": "2.7.12"
  }
 },
 "nbformat": 4,
 "nbformat_minor": 0
}
