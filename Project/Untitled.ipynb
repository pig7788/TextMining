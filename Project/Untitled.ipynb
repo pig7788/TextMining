{
 "cells": [
  {
   "cell_type": "code",
   "execution_count": 1,
   "metadata": {
    "collapsed": true
   },
   "outputs": [],
   "source": [
    "import json, re"
   ]
  },
  {
   "cell_type": "code",
   "execution_count": 14,
   "metadata": {
    "collapsed": false
   },
   "outputs": [
    {
     "name": "stdout",
     "output_type": "stream",
     "text": [
      "pacificTour 880\n",
      "everFunTravel 15\n",
      "bwt 321\n",
      "colaTour 12285\n",
      "starTravel 1021\n",
      "asuka 110\n",
      "gabriel 502\n",
      "tahSinTour 2021\n",
      "travel4U 920\n",
      "gGoGo 307\n",
      "lihPaoTour 13347\n",
      "setTour 3286\n",
      "phoenix 1266\n",
      "fantasyTours 533\n",
      "ftsTour 109\n",
      "lionTravel 3444\n",
      "eztravel 7718\n",
      "ptrTour 200\n",
      "lifeTour 1512\n",
      "bestTour 86\n"
     ]
    }
   ],
   "source": [
    "with open(r'D:\\BigData\\Python\\Workspace\\TextMining\\Project\\txtFiles\\totalAtriclesResult\\final_result.json', 'r') as jsonRead:\n",
    "    data = json.load(jsonRead)\n",
    "    for tourAgency in data:\n",
    "        n = sum(data[tourAgency].values())\n",
    "        for emotion_word in data[tourAgency]:\n",
    "            data[tourAgency][emotion_word] = round(float(data[tourAgency][emotion_word]) / n, 6)\n",
    "        print tourAgency, n"
   ]
  },
  {
   "cell_type": "code",
   "execution_count": 49,
   "metadata": {
    "collapsed": false
   },
   "outputs": [],
   "source": [
    "with open(r'D:\\BigData\\Python\\Workspace\\TextMining\\Project\\txtFiles\\totalAtriclesResult\\final_result_proportion.json', 'w')as jsonWrite:\n",
    "    json.dump(data, jsonWrite)"
   ]
  },
  {
   "cell_type": "code",
   "execution_count": 15,
   "metadata": {
    "collapsed": false
   },
   "outputs": [
    {
     "name": "stdout",
     "output_type": "stream",
     "text": [
      "pacificTour 0.999936\n",
      "everFunTravel 1.000001\n",
      "bwt 1.000004\n",
      "colaTour 0.999893\n",
      "starTravel 0.999932\n",
      "asuka 1.000008\n",
      "gabriel 0.999987\n",
      "tahSinTour 1.000068\n",
      "travel4U 1.000027\n",
      "gGoGo 0.999994\n",
      "lihPaoTour 1.000027\n",
      "setTour 0.999952\n",
      "phoenix 1.000051\n",
      "fantasyTours 0.999975\n",
      "ftsTour 0.999996\n",
      "lionTravel 0.999897\n",
      "eztravel 1.000066\n",
      "ptrTour 1.0\n",
      "lifeTour 0.999952\n",
      "bestTour 1.000006\n"
     ]
    }
   ],
   "source": [
    "for tourAgency in data:\n",
    "    print tourAgency, sum(data[tourAgency].values())"
   ]
  }
 ],
 "metadata": {
  "anaconda-cloud": {},
  "kernelspec": {
   "display_name": "Python [Root]",
   "language": "python",
   "name": "Python [Root]"
  },
  "language_info": {
   "codemirror_mode": {
    "name": "ipython",
    "version": 2
   },
   "file_extension": ".py",
   "mimetype": "text/x-python",
   "name": "python",
   "nbconvert_exporter": "python",
   "pygments_lexer": "ipython2",
   "version": "2.7.12"
  }
 },
 "nbformat": 4,
 "nbformat_minor": 0
}
